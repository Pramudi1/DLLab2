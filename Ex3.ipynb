{
  "cells": [
    {
      "cell_type": "code",
      "source": [
        "from google.colab import drive\n",
        "drive.mount('/content/drive')"
      ],
      "metadata": {
        "colab": {
          "base_uri": "https://localhost:8080/"
        },
        "id": "okRRQC-vOFfm",
        "outputId": "5d740b2a-6c28-4135-a20c-5d418ceeb824"
      },
      "execution_count": 34,
      "outputs": [
        {
          "output_type": "stream",
          "name": "stdout",
          "text": [
            "Drive already mounted at /content/drive; to attempt to forcibly remount, call drive.mount(\"/content/drive\", force_remount=True).\n"
          ]
        }
      ]
    },
    {
      "cell_type": "code",
      "source": [
        "import sys\n",
        "sys.path.append('/content/drive/MyDrive/DL Lab 2')"
      ],
      "metadata": {
        "id": "lesF_IGiOQhT"
      },
      "execution_count": 35,
      "outputs": []
    },
    {
      "cell_type": "code",
      "source": [
        "from tensorflow.keras.datasets import mnist\n",
        "from tensorflow.keras.models import Sequential\n",
        "from tensorflow.keras.layers import Dense,Flatten\n",
        "from tensorflow.keras.utils import to_categorical\n",
        "from matplotlib import pyplot as plt\n",
        "import numpy as np\n"
      ],
      "metadata": {
        "id": "wncjuHKsOtkf"
      },
      "execution_count": 36,
      "outputs": []
    },
    {
      "cell_type": "markdown",
      "source": [
        "Load the MNIST dataset"
      ],
      "metadata": {
        "id": "vOlspUx0PCa_"
      }
    },
    {
      "cell_type": "code",
      "execution_count": 37,
      "metadata": {
        "id": "9UOZdBlgE9jJ"
      },
      "outputs": [],
      "source": [
        "(train_data,train_target),(test_data,test_target) = mnist.load_data()"
      ]
    },
    {
      "cell_type": "markdown",
      "source": [
        "Visualize the dataset"
      ],
      "metadata": {
        "id": "RociFxvNPi_w"
      }
    },
    {
      "cell_type": "code",
      "source": [
        "fig, axs = plt.subplots(2, 5, figsize=(16,8))\n",
        "random_numbers = np.random.randint(0, 60000, 10)\n",
        "print('Target labels: ',train_target[random_numbers])\n",
        "for idx, ax in enumerate(axs.ravel()):\n",
        "    ax.imshow(train_data[random_numbers[idx]],cmap='gray')\n",
        "plt.show()"
      ],
      "metadata": {
        "colab": {
          "base_uri": "https://localhost:8080/",
          "height": 629
        },
        "id": "FEmN0CXzQ0r0",
        "outputId": "4d15199a-efbb-431b-eff4-0418249fc87e"
      },
      "execution_count": 6,
      "outputs": [
        {
          "output_type": "stream",
          "name": "stdout",
          "text": [
            "Target labels:  [8 7 3 3 9 5 9 0 6 7]\n"
          ]
        },
        {
          "output_type": "display_data",
          "data": {
            "text/plain": [
              "<Figure size 1600x800 with 10 Axes>"
            ],
            "image/png": "[encoded data removed]"
          },
          "metadata": {}
        }
      ]
    },
    {
      "cell_type": "markdown",
      "source": [
        "Pre-processing stage"
      ],
      "metadata": {
        "id": "YxaTSaecPUf9"
      }
    },
    {
      "cell_type": "code",
      "source": [
        "new_train_data = train_data/255.0\n",
        "new_test_data=test_data/255.0\n",
        "\n",
        "new_train_target = to_categorical(train_target)\n",
        "new_test_target = to_categorical(test_target)"
      ],
      "metadata": {
        "id": "wWPOLNMVPTRv"
      },
      "execution_count": 38,
      "outputs": []
    },
    {
      "cell_type": "markdown",
      "source": [
        "Create the Model architecture"
      ],
      "metadata": {
        "id": "ZSLECSQfPKPH"
      }
    },
    {
      "cell_type": "code",
      "execution_count": 39,
      "metadata": {
        "id": "enx5PvLWE9jM"
      },
      "outputs": [],
      "source": [
        "model=Sequential()\n",
        "\n",
        "model.add(Flatten(input_shape=(28,28)))\n",
        "\n",
        "model.add(Dense(64,activation='relu'))\n",
        "model.add(Dense(64,input_dim=64,activation='relu'))\n",
        "model.add(Dense(32,input_dim=64,activation='relu'))\n",
        "model.add(Dense(10,input_dim=32,activation='softmax'))\n",
        "model.compile(loss='categorical_crossentropy',optimizer='adam',metrics=['accuracy'])"
      ]
    },
    {
      "cell_type": "code",
      "source": [
        "model.summary()"
      ],
      "metadata": {
        "colab": {
          "base_uri": "https://localhost:8080/",
          "height": 289
        },
        "id": "TlqK33oVPP1X",
        "outputId": "65baef79-3308-407c-f39f-6172d8428c75"
      },
      "execution_count": 40,
      "outputs": [
        {
          "output_type": "display_data",
          "data": {
            "text/plain": [
              "\u001b[1mModel: \"sequential_25\"\u001b[0m\n"
            ],
            "text/html": [
              "<pre style=\"white-space:pre;overflow-x:auto;line-height:normal;font-family:Menlo,'DejaVu Sans Mono',consolas,'Courier New',monospace\"><span style=\"font-weight: bold\">Model: \"sequential_25\"</span>\n",
              "</pre>\n"
            ]
          },
          "metadata": {}
        },
        {
          "output_type": "display_data",
          "data": {
            "text/plain": [
              "┏━━━━━━━━━━━━━━━━━━━━━━━━━━━━━━━━━┳━━━━━━━━━━━━━━━━━━━━━━━━┳━━━━━━━━━━━━━━━┓\n",
              "┃\u001b[1m \u001b[0m\u001b[1mLayer (type)                   \u001b[0m\u001b[1m \u001b[0m┃\u001b[1m \u001b[0m\u001b[1mOutput Shape          \u001b[0m\u001b[1m \u001b[0m┃\u001b[1m \u001b[0m\u001b[1m      Param #\u001b[0m\u001b[1m \u001b[0m┃\n",
              "┡━━━━━━━━━━━━━━━━━━━━━━━━━━━━━━━━━╇━━━━━━━━━━━━━━━━━━━━━━━━╇━━━━━━━━━━━━━━━┩\n",
              "│ flatten_25 (\u001b[38;5;33mFlatten\u001b[0m)            │ (\u001b[38;5;45mNone\u001b[0m, \u001b[38;5;34m784\u001b[0m)            │             \u001b[38;5;34m0\u001b[0m │\n",
              "├─────────────────────────────────┼────────────────────────┼───────────────┤\n",
              "│ dense_100 (\u001b[38;5;33mDense\u001b[0m)               │ (\u001b[38;5;45mNone\u001b[0m, \u001b[38;5;34m64\u001b[0m)             │        \u001b[38;5;34m50,240\u001b[0m │\n",
              "├─────────────────────────────────┼────────────────────────┼───────────────┤\n",
              "│ dense_101 (\u001b[38;5;33mDense\u001b[0m)               │ (\u001b[38;5;45mNone\u001b[0m, \u001b[38;5;34m64\u001b[0m)             │         \u001b[38;5;34m4,160\u001b[0m │\n",
              "├─────────────────────────────────┼────────────────────────┼───────────────┤\n",
              "│ dense_102 (\u001b[38;5;33mDense\u001b[0m)               │ (\u001b[38;5;45mNone\u001b[0m, \u001b[38;5;34m32\u001b[0m)             │         \u001b[38;5;34m2,080\u001b[0m │\n",
              "├─────────────────────────────────┼────────────────────────┼───────────────┤\n",
              "│ dense_103 (\u001b[38;5;33mDense\u001b[0m)               │ (\u001b[38;5;45mNone\u001b[0m, \u001b[38;5;34m10\u001b[0m)             │           \u001b[38;5;34m330\u001b[0m │\n",
              "└─────────────────────────────────┴────────────────────────┴───────────────┘\n"
            ],
            "text/html": [
              "<pre style=\"white-space:pre;overflow-x:auto;line-height:normal;font-family:Menlo,'DejaVu Sans Mono',consolas,'Courier New',monospace\">┏━━━━━━━━━━━━━━━━━━━━━━━━━━━━━━━━━┳━━━━━━━━━━━━━━━━━━━━━━━━┳━━━━━━━━━━━━━━━┓\n",
              "┃<span style=\"font-weight: bold\"> Layer (type)                    </span>┃<span style=\"font-weight: bold\"> Output Shape           </span>┃<span style=\"font-weight: bold\">       Param # </span>┃\n",
              "┡━━━━━━━━━━━━━━━━━━━━━━━━━━━━━━━━━╇━━━━━━━━━━━━━━━━━━━━━━━━╇━━━━━━━━━━━━━━━┩\n",
              "│ flatten_25 (<span style=\"color: #0087ff; text-decoration-color: #0087ff\">Flatten</span>)            │ (<span style=\"color: #00d7ff; text-decoration-color: #00d7ff\">None</span>, <span style=\"color: #00af00; text-decoration-color: #00af00\">784</span>)            │             <span style=\"color: #00af00; text-decoration-color: #00af00\">0</span> │\n",
              "├─────────────────────────────────┼────────────────────────┼───────────────┤\n",
              "│ dense_100 (<span style=\"color: #0087ff; text-decoration-color: #0087ff\">Dense</span>)               │ (<span style=\"color: #00d7ff; text-decoration-color: #00d7ff\">None</span>, <span style=\"color: #00af00; text-decoration-color: #00af00\">64</span>)             │        <span style=\"color: #00af00; text-decoration-color: #00af00\">50,240</span> │\n",
              "├─────────────────────────────────┼────────────────────────┼───────────────┤\n",
              "│ dense_101 (<span style=\"color: #0087ff; text-decoration-color: #0087ff\">Dense</span>)               │ (<span style=\"color: #00d7ff; text-decoration-color: #00d7ff\">None</span>, <span style=\"color: #00af00; text-decoration-color: #00af00\">64</span>)             │         <span style=\"color: #00af00; text-decoration-color: #00af00\">4,160</span> │\n",
              "├─────────────────────────────────┼────────────────────────┼───────────────┤\n",
              "│ dense_102 (<span style=\"color: #0087ff; text-decoration-color: #0087ff\">Dense</span>)               │ (<span style=\"color: #00d7ff; text-decoration-color: #00d7ff\">None</span>, <span style=\"color: #00af00; text-decoration-color: #00af00\">32</span>)             │         <span style=\"color: #00af00; text-decoration-color: #00af00\">2,080</span> │\n",
              "├─────────────────────────────────┼────────────────────────┼───────────────┤\n",
              "│ dense_103 (<span style=\"color: #0087ff; text-decoration-color: #0087ff\">Dense</span>)               │ (<span style=\"color: #00d7ff; text-decoration-color: #00d7ff\">None</span>, <span style=\"color: #00af00; text-decoration-color: #00af00\">10</span>)             │           <span style=\"color: #00af00; text-decoration-color: #00af00\">330</span> │\n",
              "└─────────────────────────────────┴────────────────────────┴───────────────┘\n",
              "</pre>\n"
            ]
          },
          "metadata": {}
        },
        {
          "output_type": "display_data",
          "data": {
            "text/plain": [
              "\u001b[1m Total params: \u001b[0m\u001b[38;5;34m56,810\u001b[0m (221.91 KB)\n"
            ],
            "text/html": [
              "<pre style=\"white-space:pre;overflow-x:auto;line-height:normal;font-family:Menlo,'DejaVu Sans Mono',consolas,'Courier New',monospace\"><span style=\"font-weight: bold\"> Total params: </span><span style=\"color: #00af00; text-decoration-color: #00af00\">56,810</span> (221.91 KB)\n",
              "</pre>\n"
            ]
          },
          "metadata": {}
        },
        {
          "output_type": "display_data",
          "data": {
            "text/plain": [
              "\u001b[1m Trainable params: \u001b[0m\u001b[38;5;34m56,810\u001b[0m (221.91 KB)\n"
            ],
            "text/html": [
              "<pre style=\"white-space:pre;overflow-x:auto;line-height:normal;font-family:Menlo,'DejaVu Sans Mono',consolas,'Courier New',monospace\"><span style=\"font-weight: bold\"> Trainable params: </span><span style=\"color: #00af00; text-decoration-color: #00af00\">56,810</span> (221.91 KB)\n",
              "</pre>\n"
            ]
          },
          "metadata": {}
        },
        {
          "output_type": "display_data",
          "data": {
            "text/plain": [
              "\u001b[1m Non-trainable params: \u001b[0m\u001b[38;5;34m0\u001b[0m (0.00 B)\n"
            ],
            "text/html": [
              "<pre style=\"white-space:pre;overflow-x:auto;line-height:normal;font-family:Menlo,'DejaVu Sans Mono',consolas,'Courier New',monospace\"><span style=\"font-weight: bold\"> Non-trainable params: </span><span style=\"color: #00af00; text-decoration-color: #00af00\">0</span> (0.00 B)\n",
              "</pre>\n"
            ]
          },
          "metadata": {}
        }
      ]
    },
    {
      "cell_type": "markdown",
      "source": [
        "Train the model"
      ],
      "metadata": {
        "id": "9WYHu5ILSfNf"
      }
    },
    {
      "cell_type": "code",
      "execution_count": 41,
      "metadata": {
        "colab": {
          "base_uri": "https://localhost:8080/"
        },
        "id": "65p6Lg5gE9jO",
        "outputId": "d7cfb256-a5c7-4520-8a05-b9d11e319f50"
      },
      "outputs": [
        {
          "output_type": "stream",
          "name": "stdout",
          "text": [
            "Epoch 1/10\n",
            "\u001b[1m1875/1875\u001b[0m \u001b[32m━━━━━━━━━━━━━━━━━━━━\u001b[0m\u001b[37m\u001b[0m \u001b[1m7s\u001b[0m 3ms/step - accuracy: 0.8422 - loss: 0.5269\n",
            "Epoch 2/10\n",
            "\u001b[1m1875/1875\u001b[0m \u001b[32m━━━━━━━━━━━━━━━━━━━━\u001b[0m\u001b[37m\u001b[0m \u001b[1m5s\u001b[0m 3ms/step - accuracy: 0.9593 - loss: 0.1353\n",
            "Epoch 3/10\n",
            "\u001b[1m1875/1875\u001b[0m \u001b[32m━━━━━━━━━━━━━━━━━━━━\u001b[0m\u001b[37m\u001b[0m \u001b[1m7s\u001b[0m 3ms/step - accuracy: 0.9716 - loss: 0.0942\n",
            "Epoch 4/10\n",
            "\u001b[1m1875/1875\u001b[0m \u001b[32m━━━━━━━━━━━━━━━━━━━━\u001b[0m\u001b[37m\u001b[0m \u001b[1m5s\u001b[0m 3ms/step - accuracy: 0.9765 - loss: 0.0776\n",
            "Epoch 5/10\n",
            "\u001b[1m1875/1875\u001b[0m \u001b[32m━━━━━━━━━━━━━━━━━━━━\u001b[0m\u001b[37m\u001b[0m \u001b[1m7s\u001b[0m 3ms/step - accuracy: 0.9819 - loss: 0.0559\n",
            "Epoch 6/10\n",
            "\u001b[1m1875/1875\u001b[0m \u001b[32m━━━━━━━━━━━━━━━━━━━━\u001b[0m\u001b[37m\u001b[0m \u001b[1m9s\u001b[0m 3ms/step - accuracy: 0.9828 - loss: 0.0530\n",
            "Epoch 7/10\n",
            "\u001b[1m1875/1875\u001b[0m \u001b[32m━━━━━━━━━━━━━━━━━━━━\u001b[0m\u001b[37m\u001b[0m \u001b[1m6s\u001b[0m 3ms/step - accuracy: 0.9871 - loss: 0.0422\n",
            "Epoch 8/10\n",
            "\u001b[1m1875/1875\u001b[0m \u001b[32m━━━━━━━━━━━━━━━━━━━━\u001b[0m\u001b[37m\u001b[0m \u001b[1m9s\u001b[0m 3ms/step - accuracy: 0.9888 - loss: 0.0351\n",
            "Epoch 9/10\n",
            "\u001b[1m1875/1875\u001b[0m \u001b[32m━━━━━━━━━━━━━━━━━━━━\u001b[0m\u001b[37m\u001b[0m \u001b[1m6s\u001b[0m 3ms/step - accuracy: 0.9891 - loss: 0.0326\n",
            "Epoch 10/10\n",
            "\u001b[1m1875/1875\u001b[0m \u001b[32m━━━━━━━━━━━━━━━━━━━━\u001b[0m\u001b[37m\u001b[0m \u001b[1m5s\u001b[0m 3ms/step - accuracy: 0.9911 - loss: 0.0279\n"
          ]
        }
      ],
      "source": [
        "train_info = model.fit(new_train_data , new_train_target , epochs = 10)"
      ]
    },
    {
      "cell_type": "markdown",
      "source": [
        "Plot the loss and accuracy graphs"
      ],
      "metadata": {
        "id": "cwR1pYCBSl6w"
      }
    },
    {
      "cell_type": "code",
      "execution_count": 42,
      "metadata": {
        "colab": {
          "base_uri": "https://localhost:8080/",
          "height": 472
        },
        "id": "nIHMcTjME9jP",
        "outputId": "813533aa-9935-4c98-98fd-0b12a3d8043a"
      },
      "outputs": [
        {
          "output_type": "display_data",
          "data": {
            "text/plain": [
              "<Figure size 640x480 with 1 Axes>"
            ],
            "image/png": "[encoded data removed]"
          },
          "metadata": {}
        }
      ],
      "source": [
        "plt.plot(train_info.history['loss'])\n",
        "plt.xlabel('epochs')\n",
        "plt.ylabel('loss')\n",
        "plt.title('Model loss')\n",
        "plt.show()"
      ]
    },
    {
      "cell_type": "code",
      "execution_count": 43,
      "metadata": {
        "colab": {
          "base_uri": "https://localhost:8080/",
          "height": 472
        },
        "id": "T6DnvAP3E9jP",
        "outputId": "5fd400b1-6863-43cc-e9cf-e47c3c1a0060"
      },
      "outputs": [
        {
          "output_type": "display_data",
          "data": {
            "text/plain": [
              "<Figure size 640x480 with 1 Axes>"
            ],
            "image/png": "[encoded data removed]"
          },
          "metadata": {}
        }
      ],
      "source": [
        "plt.plot(train_info.history['accuracy'])\n",
        "plt.xlabel('epochs')\n",
        "plt.ylabel('accuracy')\n",
        "plt.title('Model accuracy')\n",
        "plt.show()"
      ]
    },
    {
      "cell_type": "markdown",
      "source": [
        "Test the performance of Model"
      ],
      "metadata": {
        "id": "lHY3ygUVTkmo"
      }
    },
    {
      "cell_type": "code",
      "execution_count": 44,
      "metadata": {
        "colab": {
          "base_uri": "https://localhost:8080/"
        },
        "id": "vLSwDA7DE9jQ",
        "outputId": "8be397e4-5b89-4a28-8c8b-1b9d59136d3e"
      },
      "outputs": [
        {
          "output_type": "stream",
          "name": "stdout",
          "text": [
            "\u001b[1m313/313\u001b[0m \u001b[32m━━━━━━━━━━━━━━━━━━━━\u001b[0m\u001b[37m\u001b[0m \u001b[1m1s\u001b[0m 2ms/step - accuracy: 0.9722 - loss: 0.1131\n",
            "Loss of the Test dataset is: 0.10095120966434479\n",
            "Accuracy of the test dataset is: 0.9747999906539917\n"
          ]
        }
      ],
      "source": [
        "loss, acc = model.evaluate(new_test_data , new_test_target)\n",
        "print(f'Loss of the Test dataset is: {loss}\\nAccuracy of the test dataset is: {acc}')"
      ]
    },
    {
      "cell_type": "markdown",
      "source": [
        "Save the model weights"
      ],
      "metadata": {
        "id": "gNAp8ycXU7ph"
      }
    },
    {
      "cell_type": "code",
      "execution_count": 45,
      "metadata": {
        "id": "anSo8CJ3E9jR"
      },
      "outputs": [],
      "source": [
        "model.save_weights('MNIST_WEIGHTS_V1.weights.h5')"
      ]
    },
    {
      "cell_type": "markdown",
      "source": [
        " a. Improve the test accuracy"
      ],
      "metadata": {
        "id": "GgdZF2yKZxQm"
      }
    },
    {
      "cell_type": "code",
      "source": [
        "def build_and_train_model(neurons_layer1, neurons_layer2, epochs):\n",
        "    \"\"\"\n",
        "    Builds and trains a sequential model with specified hyperparameters.\n",
        "\n",
        "    Args:\n",
        "        neurons_layer1 (int): Number of neurons in the first dense layer.\n",
        "        neurons_layer2 (int): Number of neurons in the second dense layer.\n",
        "        epochs (int): Number of training epochs.\n",
        "\n",
        "    Returns:\n",
        "        tuple: A tuple containing the trained model and its history.\n",
        "    \"\"\"\n",
        "    model = Sequential()\n",
        "    model.add(Flatten(input_shape=(28, 28)))\n",
        "    model.add(Dense(neurons_layer1, activation='relu'))\n",
        "    model.add(Dense(neurons_layer2, activation='relu'))\n",
        "    model.add(Dense(32, activation='relu')) # Keeping the third dense layer at 32 neurons for now\n",
        "    model.add(Dense(10, activation='softmax'))\n",
        "\n",
        "    model.compile(loss='categorical_crossentropy', optimizer='adam', metrics=['accuracy'])\n",
        "\n",
        "    print(f\"Training with {neurons_layer1} neurons in layer 1, {neurons_layer2} in layer 2, and {epochs} epochs...\")\n",
        "    history = model.fit(new_train_data, new_train_target, epochs=epochs, verbose=0) # Set verbose to 0 to avoid printing training progress for each epoch\n",
        "\n",
        "    loss, acc = model.evaluate(new_test_data, new_test_target, verbose=0)\n",
        "    print(f\"Test Loss: {loss:.4f}, Test Accuracy: {acc:.4f}\")\n",
        "\n",
        "    return model, history"
      ],
      "metadata": {
        "id": "JDbWPFu3Zy23"
      },
      "execution_count": 46,
      "outputs": []
    },
    {
      "cell_type": "code",
      "source": [
        "# Define the hyperparameter values to try\n",
        "neurons_layer1_options = [64, 128]\n",
        "neurons_layer2_options = [32, 64]\n",
        "epochs_options = [5, 10]\n",
        "\n",
        "best_accuracy = 0\n",
        "best_hyperparameters = {}\n",
        "\n",
        "# Iterate through all combinations of hyperparameters\n",
        "for neurons1 in neurons_layer1_options:\n",
        "    for neurons2 in neurons_layer2_options:\n",
        "        for epoch_count in epochs_options:\n",
        "            print(f\"\\nTrying hyperparameters: Layer 1 Neurons = {neurons1}, Layer 2 Neurons = {neurons2}, Epochs = {epoch_count}\")\n",
        "\n",
        "            # Build and train the model with the current hyperparameters\n",
        "            model, history = build_and_train_model(neurons1, neurons2, epoch_count)\n",
        "\n",
        "            # Evaluate the model and get the test accuracy\n",
        "            loss, acc = model.evaluate(new_test_data, new_test_target, verbose=0)\n",
        "            print(f\"Test Accuracy for this combination: {acc:.4f}\")\n",
        "\n",
        "            # Check if this combination has the best accuracy so far\n",
        "            if acc > best_accuracy:\n",
        "                best_accuracy = acc\n",
        "                best_hyperparameters = {\n",
        "                    'neurons_layer1': neurons1,\n",
        "                    'neurons_layer2': neurons2,\n",
        "                    'epochs': epoch_count\n",
        "                }\n",
        "\n",
        "print(\"\\n=====================================\")\n",
        "print(f\"Best Test Accuracy found: {best_accuracy:.4f}\")\n",
        "print(\"Best Hyperparameters:\")\n",
        "print(best_hyperparameters)\n",
        "print(\"=====================================\")"
      ],
      "metadata": {
        "colab": {
          "base_uri": "https://localhost:8080/"
        },
        "id": "CXaaV61vZ5yB",
        "outputId": "06577146-7e51-479e-abc6-b9d7f7127689"
      },
      "execution_count": 47,
      "outputs": [
        {
          "output_type": "stream",
          "name": "stdout",
          "text": [
            "\n",
            "Trying hyperparameters: Layer 1 Neurons = 64, Layer 2 Neurons = 32, Epochs = 5\n",
            "Training with 64 neurons in layer 1, 32 in layer 2, and 5 epochs...\n",
            "Test Loss: 0.0996, Test Accuracy: 0.9708\n",
            "Test Accuracy for this combination: 0.9708\n",
            "\n",
            "Trying hyperparameters: Layer 1 Neurons = 64, Layer 2 Neurons = 32, Epochs = 10\n",
            "Training with 64 neurons in layer 1, 32 in layer 2, and 10 epochs...\n",
            "Test Loss: 0.0964, Test Accuracy: 0.9744\n",
            "Test Accuracy for this combination: 0.9744\n",
            "\n",
            "Trying hyperparameters: Layer 1 Neurons = 64, Layer 2 Neurons = 64, Epochs = 5\n",
            "Training with 64 neurons in layer 1, 64 in layer 2, and 5 epochs...\n",
            "Test Loss: 0.0880, Test Accuracy: 0.9732\n",
            "Test Accuracy for this combination: 0.9732\n",
            "\n",
            "Trying hyperparameters: Layer 1 Neurons = 64, Layer 2 Neurons = 64, Epochs = 10\n",
            "Training with 64 neurons in layer 1, 64 in layer 2, and 10 epochs...\n",
            "Test Loss: 0.0981, Test Accuracy: 0.9768\n",
            "Test Accuracy for this combination: 0.9768\n",
            "\n",
            "Trying hyperparameters: Layer 1 Neurons = 128, Layer 2 Neurons = 32, Epochs = 5\n",
            "Training with 128 neurons in layer 1, 32 in layer 2, and 5 epochs...\n",
            "Test Loss: 0.0859, Test Accuracy: 0.9755\n",
            "Test Accuracy for this combination: 0.9755\n",
            "\n",
            "Trying hyperparameters: Layer 1 Neurons = 128, Layer 2 Neurons = 32, Epochs = 10\n",
            "Training with 128 neurons in layer 1, 32 in layer 2, and 10 epochs...\n",
            "Test Loss: 0.1083, Test Accuracy: 0.9740\n",
            "Test Accuracy for this combination: 0.9740\n",
            "\n",
            "Trying hyperparameters: Layer 1 Neurons = 128, Layer 2 Neurons = 64, Epochs = 5\n",
            "Training with 128 neurons in layer 1, 64 in layer 2, and 5 epochs...\n",
            "Test Loss: 0.0868, Test Accuracy: 0.9768\n",
            "Test Accuracy for this combination: 0.9768\n",
            "\n",
            "Trying hyperparameters: Layer 1 Neurons = 128, Layer 2 Neurons = 64, Epochs = 10\n",
            "Training with 128 neurons in layer 1, 64 in layer 2, and 10 epochs...\n",
            "Test Loss: 0.1025, Test Accuracy: 0.9741\n",
            "Test Accuracy for this combination: 0.9741\n",
            "\n",
            "=====================================\n",
            "Best Test Accuracy found: 0.9768\n",
            "Best Hyperparameters:\n",
            "{'neurons_layer1': 64, 'neurons_layer2': 64, 'epochs': 10}\n",
            "=====================================\n"
          ]
        }
      ]
    },
    {
      "cell_type": "markdown",
      "source": [
        "b. Add L1 and L2 regularization terms to the model and retrain the model."
      ],
      "metadata": {
        "id": "TtqhkteLc518"
      }
    },
    {
      "cell_type": "code",
      "source": [
        "from tensorflow.keras.regularizers import l1_l2\n",
        "\n",
        "def build_and_train_model_with_regularization(neurons_layer1, neurons_layer2, epochs, l1_reg=0.0, l2_reg=0.0):\n",
        "    \"\"\"\n",
        "    Builds and trains a sequential model with specified hyperparameters and regularization.\n",
        "\n",
        "    Args:\n",
        "        neurons_layer1 (int): Number of neurons in the first dense layer.\n",
        "        neurons_layer2 (int): Number of neurons in the second dense layer.\n",
        "        epochs (int): Number of training epochs.\n",
        "        l1_reg (float): L1 regularization strength.\n",
        "        l2_reg (float): L2 regularization strength.\n",
        "\n",
        "    Returns:\n",
        "        tuple: A tuple containing the trained model and its history.\n",
        "    \"\"\"\n",
        "    model = Sequential()\n",
        "    model.add(Flatten(input_shape=(28, 28)))\n",
        "    model.add(Dense(neurons_layer1, activation='relu', kernel_regularizer=l1_l2(l1=l1_reg, l2=l2_reg))) # Add regularization\n",
        "    model.add(Dense(neurons_layer2, activation='relu', kernel_regularizer=l1_l2(l1=l1_reg, l2=l2_reg))) # Add regularization\n",
        "    model.add(Dense(32, activation='relu', kernel_regularizer=l1_l2(l1=l1_reg, l2=l2_reg))) # Add regularization\n",
        "    model.add(Dense(10, activation='softmax'))\n",
        "\n",
        "    model.compile(loss='categorical_crossentropy', optimizer='adam', metrics=['accuracy'])\n",
        "\n",
        "    print(f\"Training with {neurons_layer1} neurons in layer 1, {neurons_layer2} in layer 2, {epochs} epochs, L1={l1_reg}, L2={l2_reg}...\")\n",
        "    history = model.fit(new_train_data, new_train_target, epochs=epochs, verbose=0)\n",
        "\n",
        "    loss, acc = model.evaluate(new_test_data, new_test_target, verbose=0)\n",
        "    print(f\"Test Loss: {loss:.4f}, Test Accuracy: {acc:.4f}\")\n",
        "\n",
        "    return model, history"
      ],
      "metadata": {
        "id": "e2MZdjL-c7Qg"
      },
      "execution_count": 48,
      "outputs": []
    },
    {
      "cell_type": "code",
      "source": [
        "# Use the best hyperparameters found previously\n",
        "best_neurons_layer1 = best_hyperparameters['neurons_layer1']\n",
        "best_neurons_layer2 = best_hyperparameters['neurons_layer2']\n",
        "best_epochs = best_hyperparameters['epochs']\n",
        "\n",
        "# Define some L1 and L2 regularization values to try\n",
        "l1_values = [0.001, 0.01]\n",
        "l2_values = [0.001, 0.01]\n",
        "\n",
        "print(\"Experimenting with L1 and L2 Regularization:\")\n",
        "\n",
        "# Train with L1 regularization only\n",
        "for l1 in l1_values:\n",
        "    print(f\"\\n--- Training with L1 Regularization = {l1} ---\")\n",
        "    model_l1, history_l1 = build_and_train_model_with_regularization(\n",
        "        best_neurons_layer1,\n",
        "        best_neurons_layer2,\n",
        "        best_epochs,\n",
        "        l1_reg=l1,\n",
        "        l2_reg=0.0 # No L2 regularization\n",
        "    )\n",
        "\n",
        "# Train with L2 regularization only\n",
        "for l2 in l2_values:\n",
        "    print(f\"\\n--- Training with L2 Regularization = {l2} ---\")\n",
        "    model_l2, history_l2 = build_and_train_model_with_regularization(\n",
        "        best_neurons_layer1,\n",
        "        best_neurons_layer2,\n",
        "        best_epochs,\n",
        "        l1_reg=0.0, # No L1 regularization\n",
        "        l2_reg=l2\n",
        "    )\n",
        "\n",
        "# Train with both L1 and L2 regularization\n",
        "for l1 in l1_values:\n",
        "    for l2 in l2_values:\n",
        "        print(f\"\\n--- Training with L1={l1} and L2={l2} Regularization ---\")\n",
        "        model_l1_l2, history_l1_l2 = build_and_train_model_with_regularization(\n",
        "            best_neurons_layer1,\n",
        "            best_neurons_layer2,\n",
        "            best_epochs,\n",
        "            l1_reg=l1,\n",
        "            l2_reg=l2\n",
        "        )\n",
        "\n",
        "print(\"\\n--- Experimentation with L1 and L2 Regularization Complete ---\")"
      ],
      "metadata": {
        "colab": {
          "base_uri": "https://localhost:8080/"
        },
        "id": "AGCaNO95dWQd",
        "outputId": "2a4cffd5-9dff-471d-ed25-49545ba6540b"
      },
      "execution_count": 49,
      "outputs": [
        {
          "output_type": "stream",
          "name": "stdout",
          "text": [
            "Experimenting with L1 and L2 Regularization:\n",
            "\n",
            "--- Training with L1 Regularization = 0.001 ---\n",
            "Training with 64 neurons in layer 1, 64 in layer 2, 10 epochs, L1=0.001, L2=0.0...\n",
            "Test Loss: 0.3985, Test Accuracy: 0.9482\n",
            "\n",
            "--- Training with L1 Regularization = 0.01 ---\n",
            "Training with 64 neurons in layer 1, 64 in layer 2, 10 epochs, L1=0.01, L2=0.0...\n",
            "Test Loss: 1.0545, Test Accuracy: 0.7818\n",
            "\n",
            "--- Training with L2 Regularization = 0.001 ---\n",
            "Training with 64 neurons in layer 1, 64 in layer 2, 10 epochs, L1=0.0, L2=0.001...\n",
            "Test Loss: 0.1845, Test Accuracy: 0.9716\n",
            "\n",
            "--- Training with L2 Regularization = 0.01 ---\n",
            "Training with 64 neurons in layer 1, 64 in layer 2, 10 epochs, L1=0.0, L2=0.01...\n",
            "Test Loss: 0.3654, Test Accuracy: 0.9535\n",
            "\n",
            "--- Training with L1=0.001 and L2=0.001 Regularization ---\n",
            "Training with 64 neurons in layer 1, 64 in layer 2, 10 epochs, L1=0.001, L2=0.001...\n",
            "Test Loss: 0.4240, Test Accuracy: 0.9466\n",
            "\n",
            "--- Training with L1=0.001 and L2=0.01 Regularization ---\n",
            "Training with 64 neurons in layer 1, 64 in layer 2, 10 epochs, L1=0.001, L2=0.01...\n",
            "Test Loss: 0.5507, Test Accuracy: 0.9235\n",
            "\n",
            "--- Training with L1=0.01 and L2=0.001 Regularization ---\n",
            "Training with 64 neurons in layer 1, 64 in layer 2, 10 epochs, L1=0.01, L2=0.001...\n",
            "Test Loss: 2.3641, Test Accuracy: 0.1135\n",
            "\n",
            "--- Training with L1=0.01 and L2=0.01 Regularization ---\n",
            "Training with 64 neurons in layer 1, 64 in layer 2, 10 epochs, L1=0.01, L2=0.01...\n",
            "Test Loss: 1.7321, Test Accuracy: 0.4033\n",
            "\n",
            "--- Experimentation with L1 and L2 Regularization Complete ---\n"
          ]
        }
      ]
    },
    {
      "cell_type": "markdown",
      "source": [
        "c. Visualize class-wise test dataset performance using a confusion matrix."
      ],
      "metadata": {
        "id": "JAkvcNaBsW7Z"
      }
    },
    {
      "cell_type": "code",
      "source": [
        "# We'll use the model trained with the best hyperparameters without regularization for this.\n",
        "# If you want to use a different model (e.g., with regularization), please specify.\n",
        "\n",
        "# First, build and train the best model without regularization\n",
        "best_model, _ = build_and_train_model(\n",
        "    best_hyperparameters['neurons_layer1'],\n",
        "    best_hyperparameters['neurons_layer2'],\n",
        "    best_hyperparameters['epochs']\n",
        ")\n",
        "\n",
        "# Make predictions on the test data\n",
        "predictions = best_model.predict(new_test_data)\n",
        "\n",
        "# The predictions are probabilities for each class. We need to get the class with the highest probability.\n",
        "predicted_classes = np.argmax(predictions, axis=1)"
      ],
      "metadata": {
        "colab": {
          "base_uri": "https://localhost:8080/"
        },
        "id": "CM5L4SF_sYJR",
        "outputId": "89c610b5-24c3-4791-edc8-fb171f9cd6cb"
      },
      "execution_count": 50,
      "outputs": [
        {
          "output_type": "stream",
          "name": "stdout",
          "text": [
            "Training with 64 neurons in layer 1, 64 in layer 2, and 10 epochs...\n",
            "Test Loss: 0.1150, Test Accuracy: 0.9694\n",
            "\u001b[1m313/313\u001b[0m \u001b[32m━━━━━━━━━━━━━━━━━━━━\u001b[0m\u001b[37m\u001b[0m \u001b[1m1s\u001b[0m 1ms/step\n"
          ]
        }
      ]
    },
    {
      "cell_type": "code",
      "source": [
        "# Get the true labels for the test data by converting from one-hot encoding\n",
        "true_classes = np.argmax(new_test_target, axis=1)"
      ],
      "metadata": {
        "id": "cpfduQdssuW0"
      },
      "execution_count": 51,
      "outputs": []
    },
    {
      "cell_type": "code",
      "source": [
        "from sklearn.metrics import confusion_matrix\n",
        "\n",
        "# Generate the confusion matrix\n",
        "conf_matrix = confusion_matrix(true_classes, predicted_classes)\n",
        "\n",
        "print(\"Confusion Matrix:\")\n",
        "print(conf_matrix)"
      ],
      "metadata": {
        "colab": {
          "base_uri": "https://localhost:8080/"
        },
        "id": "1ZmLzqn6s0QQ",
        "outputId": "0d38d3dc-b9f0-4587-b88e-c8ef6c2ee31f"
      },
      "execution_count": 52,
      "outputs": [
        {
          "output_type": "stream",
          "name": "stdout",
          "text": [
            "Confusion Matrix:\n",
            "[[ 970    0    1    0    1    0    3    1    1    3]\n",
            " [   1 1114    2    1    0    1    4    1   11    0]\n",
            " [   5    2  986    7    2    0    2   17   11    0]\n",
            " [   0    0    2  985    0   12    0    5    6    0]\n",
            " [   4    3    3    0  926    2    8   10    1   25]\n",
            " [   2    0    0    7    0  872    5    1    4    1]\n",
            " [   5    1    1    1    5    5  936    3    1    0]\n",
            " [   1    5    8    0    1    1    0  999    2   11]\n",
            " [   5    0    1    5    2   19    4    6  929    3]\n",
            " [   2    2    0    7    3    9    1    6    2  977]]\n"
          ]
        }
      ]
    },
    {
      "cell_type": "code",
      "source": [
        "import seaborn as sns\n",
        "import matplotlib.pyplot as plt\n",
        "\n",
        "# Visualize the confusion matrix as a heatmap\n",
        "plt.figure(figsize=(10, 8))\n",
        "sns.heatmap(conf_matrix, annot=True, fmt='d', cmap='Blues', cbar=False)\n",
        "plt.xlabel('Predicted Label')\n",
        "plt.ylabel('True Label')\n",
        "plt.title('Confusion Matrix')\n",
        "plt.show()"
      ],
      "metadata": {
        "colab": {
          "base_uri": "https://localhost:8080/",
          "height": 718
        },
        "id": "kxTYm6HAs4bb",
        "outputId": "944e04ea-321f-4759-8be9-2125040f73e7"
      },
      "execution_count": 53,
      "outputs": [
        {
          "output_type": "display_data",
          "data": {
            "text/plain": [
              "<Figure size 1000x800 with 1 Axes>"
            ],
            "image/png": "[encoded data removed]"
          },
          "metadata": {}
        }
      ]
    }
  ],
  "metadata": {
    "kernelspec": {
      "display_name": "Python 3",
      "language": "python",
      "name": "python3"
    },
    "language_info": {
      "codemirror_mode": {
        "name": "ipython",
        "version": 3
      },
      "file_extension": ".py",
      "mimetype": "text/x-python",
      "name": "python",
      "nbconvert_exporter": "python",
      "pygments_lexer": "ipython3",
      "version": "3.8.8"
    },
    "colab": {
      "provenance": []
    }
  },
  "nbformat": 4,
  "nbformat_minor": 0
}